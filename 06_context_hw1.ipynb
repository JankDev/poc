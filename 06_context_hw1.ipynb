{
 "nbformat": 4,
 "nbformat_minor": 0,
 "metadata": {
  "kernelspec": {
   "display_name": "Python 3",
   "language": "python",
   "name": "python3"
  },
  "language_info": {
   "codemirror_mode": {
    "name": "ipython",
    "version": 3
   },
   "file_extension": ".py",
   "mimetype": "text/x-python",
   "name": "python",
   "nbconvert_exporter": "python",
   "pygments_lexer": "ipython3",
   "version": "3.8.3"
  },
  "colab": {
   "name": "06_context_hw1.ipynb",
   "provenance": [],
   "collapsed_sections": [],
   "toc_visible": true
  }
 },
 "cells": [
  {
   "cell_type": "markdown",
   "metadata": {
    "collapsed": true,
    "pycharm": {
     "name": "#%% md\n"
    },
    "id": "uLanrISAhqI3"
   },
   "source": [
    "# Mediana dla obrazu kolorowego\n",
    "\n",
    "Idea filtracji medianowej jest dość prosta dla obrazów w odcieniach szarości.\n",
    "Dla obrazów kolorowych trudniej jest określić kryterium wg. którego szeregowane będą wartości, z których wyznaczana będzie mediana.\n",
    "\n",
    "Jedną z możliwości wykonania filtracji medianowej dla obrazów kolorowych (na podstawie *The Image Processing Handbook*, J. Russ) jest wykorzystanie następującej definicji mediany:\n",
    "``mediana to ten piksel z otoczenia, którego odległość do innych pikseli z otoczenia jest najmniejsza''.\n",
    "Jako miarę odległości wykorzystujemy pierwiastek z sumy kwadratów różnic poszczególnych składowych R,G,B.\n",
    "Zatem odległość między dwoma pikselami wyraża się wzorem:\n",
    "\\begin{equation}\n",
    "dRGB = \\sqrt{(R_1-R_2)^2+(G_1-G_2)^2+(B_1-B_2)^2}\n",
    "\\end{equation}\n",
    "\n",
    "Warto zwrócić uwagę, że istnieje wiele możliwości zdefiniowania porównywania wielkości wektorowych (jeden piksel to wektor o trzech składowych).\n",
    "Można zamiast odległości wykorzystać kąt albo połączyć oba parametry.\n",
    "Ponadto istnieje możliwość dodania do wektora dodatkowych składowych - tak aby lepiej opisać piksel.\n",
    "\n",
    "Celem zadania jest implementacja opisanego algorytmu.\n",
    "\n",
    "1. Wczytaj obraz *lenaRGBSzum.png* (dostępny na git).\n",
    "2. Zdefiniuj rozmiar okna.\n",
    "3. Wykonaj pętle po pikselach, dla których okno jest zdefiniowane (pomiń brzeg obrazu).\n",
    "4. Dla każdego piksela pobierz okno o właściwym rozmiarze.\n",
    "5. Wykonaj pętle po oknie, wewnątrz której obliczona zostanie suma odległości.\n",
    "    - Obliczanie różnicy: `window - window[rowWin, colWin]`.\n",
    "    - Obliczanie kwadratów: `np.square`.\n",
    "    - Obliczanie pierwiastka: `np.sqrt`.\n",
    "    - Obliczanie sumy metodą `.sum`.\n",
    "6. Po obliczeniu macierzy odległości wyznacz argument elementu minimalnego.\n",
    "Wykorzystaj funkcję `np.argmin`.\n",
    "Argument funkcji zostanie spłaszczony, jeśli ma więcej niż jeden wymiar.\n",
    "Aby przekonwertować spłaszczony indeks na indeks macierzy wykorzystaj funkcję `np.unravel_index`.\n",
    "7. Przypisz odpowiedni wektor wartości do piksela obrazu wynikowego.\n",
    "8. Wyświetl obraz oryginalny i przefiltrowany.\n",
    "9. Przeprowadź dwa eksperymenty - dla obrazu _lenaRGB_ oraz _lenaRGBszum_."
   ]
  },
  {
   "cell_type": "code",
   "metadata": {
    "pycharm": {
     "name": "#%% Mediana dla obrazu kolorowego\n"
    },
    "id": "RALt_KjLhqI3",
    "colab": {
     "base_uri": "https://localhost:8080/"
    },
    "outputId": "f1329fa9-3969-4c56-a2d9-30ed49b69e63"
   },
   "source": [
    "import matplotlib.pyplot as plt\n",
    "import cv2 as cv\n",
    "from typing import Tuple\n",
    "import numpy as np\n",
    "import os\n",
    "\n",
    "if not os.path.exists(\"lenaRGB.png\") :\n",
    "    !wget https://raw.githubusercontent.com/vision-agh/poc_sw/master/06_Context/lenaRGB.png --no-check-certificate\n",
    "if not os.path.exists(\"lenaRGBSzum.png\") :\n",
    "    !wget https://raw.githubusercontent.com/vision-agh/poc_sw/master/06_Context/lenaRGBSzum.png --no-check-certificate\n",
    "\n",
    "Image = np.ndarray\n",
    "def load_img(path: str, cmap: int = cv.COLOR_BGR2RGB) -> Image:\n",
    "    img = cv.imread(path)\n",
    "    return cv.cvtColor(img,cmap)\n",
    "\n",
    "def display_img(img: Image) -> None:\n",
    "    plt.imshow(img)\n",
    "    plt.axis(\"off\")\n",
    "    plt.show()"
   ],
   "execution_count": null,
   "outputs": []
  },
  {
   "cell_type": "code",
   "metadata": {
    "pycharm": {
     "name": "#%%\n",
     "is_executing": true
    },
    "colab": {
     "base_uri": "https://localhost:8080/",
     "height": 941
    },
    "id": "P7HWtnGahqI4",
    "outputId": "21198a85-ca79-41a8-c6c4-78fe41b670c0"
   },
   "source": [
    "\n",
    "lena = load_img(\"lenaRGB.png\")\n",
    "lenaNoise = load_img(\"lenaRGBSzum.png\")\n",
    "display_img(lena)\n",
    "\n",
    "def filter_median(img: Image, kernel_size: int = 3) -> Image:\n",
    "    offset = 1\n",
    "    (height, width, _) = img.shape\n",
    "    margin = int((kernel_size-1)/2)\n",
    "\n",
    "    filtered_img = np.empty(img.shape).astype(np.uint8)\n",
    "\n",
    "    for i in range(margin, width-margin):\n",
    "        for j in range(margin, height-margin):\n",
    "            window:np.ndarray = img[i-1:i+1+offset,j-1:j+1+offset,:]\n",
    "            dgrb = np.empty((kernel_size,kernel_size))\n",
    "            for k in range(kernel_size):\n",
    "                for l in range(kernel_size):\n",
    "                    dgrb[k,l]=np.sqrt(np.sum(np.square(window-window[k,l]),axis=2)).sum()\n",
    "            (x,y) = np.unravel_index(np.argmin(dgrb),(kernel_size,kernel_size))\n",
    "            filtered_img[i,j] = window[x, y].astype(np.uint8)\n",
    "    return filtered_img\n",
    "\n",
    "filtered_lena = filter_median(lena)\n",
    "display_img(filtered_lena)\n",
    "display_img(lenaNoise)\n",
    "display_img(filter_median(lenaNoise))"
   ],
   "execution_count": null,
   "outputs": []
  }
 ]
}